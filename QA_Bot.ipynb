{
 "cells": [
  {
   "cell_type": "code",
   "execution_count": null,
   "id": "7d4d5a62-c4ea-4e73-8f78-d273ac42dfb0",
   "metadata": {},
   "outputs": [],
   "source": [
    "from transformers import pipeline"
   ]
  },
  {
   "cell_type": "code",
   "execution_count": null,
   "id": "662ee071-70b6-4225-9277-1c976bc66db9",
   "metadata": {},
   "outputs": [],
   "source": [
    "question_answerer = pipeline(\"question-answering-large\")"
   ]
  },
  {
   "cell_type": "code",
   "execution_count": null,
   "id": "2cf1ebf6-0f66-4210-9e24-0775ba0fadc6",
   "metadata": {},
   "outputs": [],
   "source": [
    "context = \"\"\"\n",
    "Paris, France's capital, is a major European city and a global center for art, fashion, gastronomy and culture.\n",
    "Its 19th-century cityscape is crisscrossed by wide boulevards and the River Seine.\n",
    "Beyond such landmarks as the Eiffel Tower, Louvre Museum and Notre-Dame cathedral, the city is known for its cafe culture,\n",
    "haute couture houses and classical art museums.\n",
    "\"\"\""
   ]
  },
  {
   "cell_type": "code",
   "execution_count": null,
   "id": "ce758c94-5325-4aa2-867f-441e2a237274",
   "metadata": {},
   "outputs": [],
   "source": [
    "question = \"What is the capital of France?\""
   ]
  },
  {
   "cell_type": "code",
   "execution_count": null,
   "id": "4a7035eb-21b0-470d-a298-ac36b24e8f14",
   "metadata": {},
   "outputs": [],
   "source": [
    "answer = question_answerer(question=question, context=context)\n",
    "print(answer['answer'])"
   ]
  },
  {
   "cell_type": "code",
   "execution_count": null,
   "id": "a069cd84-6de7-4a3c-969a-690a2e3f3b46",
   "metadata": {},
   "outputs": [],
   "source": []
  }
 ],
 "metadata": {
  "kernelspec": {
   "display_name": "Python 3 (ipykernel)",
   "language": "python",
   "name": "python3"
  },
  "language_info": {
   "codemirror_mode": {
    "name": "ipython",
    "version": 3
   },
   "file_extension": ".py",
   "mimetype": "text/x-python",
   "name": "python",
   "nbconvert_exporter": "python",
   "pygments_lexer": "ipython3",
   "version": "3.12.3"
  }
 },
 "nbformat": 4,
 "nbformat_minor": 5
}
